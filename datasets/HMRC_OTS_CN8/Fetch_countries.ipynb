{
 "cells": [
  {
   "cell_type": "markdown",
   "metadata": {},
   "source": [
    "Given the `metadata/countries.json` file created by `Prepare Sources`, fetch each of the referenced linked data resources.\n",
    "\n",
    "We'll just RDFlib to parse the RDF and serialize it back out as one big file.  We could just use `Graph.parse()` to directly fetch and parse the source data, but to cache the response, we'll fetch the RDF and put it in the `in` folder if it's not there already."
   ]
  },
  {
   "cell_type": "code",
   "execution_count": null,
   "metadata": {},
   "outputs": [],
   "source": [
    "import json\n",
    "import requests\n",
    "from pathlib import Path\n",
    "from rdflib import Graph, URIRef, Namespace, RDF, Literal, RDFS, term, XSD\n",
    "from rdflib.namespace import SKOS\n",
    "\n",
    "# monkey patch to avoid gYear \"normalization\" issue https://github.com/RDFLib/rdflib/issues/806\n",
    "term._toPythonMapping.pop(XSD['gYear'])\n",
    "\n",
    "FOI = Namespace('http://publishmydata.com/def/ontology/foi/')\n",
    "\n",
    "countries_json = Path('metadata') / 'countries.json'\n",
    "\n",
    "countries = json.load(open('metadata/countries.json'))\n",
    "countriesGraph = Graph()\n",
    "countriesGraph.bind('foi', FOI)\n",
    "countriesCollection = URIRef('http://gss-data.org.uk/def/trade/countries#collection')\n",
    "countriesGraph.add((countriesCollection, RDF.type, FOI.AreaCollection))\n",
    "countriesGraph.add((countriesCollection, RDFS.label, Literal('Countries')))\n",
    "countriesGraph.add((countriesCollection, FOI.singularDisplayName, Literal('Country')))\n",
    "\n",
    "sourceFolder = Path('in')\n",
    "sourceFolder.mkdir(exist_ok=True)\n",
    "\n",
    "tgnFile = sourceFolder / 'tgn.ttl'\n",
    "if not(tgnFile.exists() and tgnFile.is_file()):\n",
    "    response = requests.get('http://vocab.getty.edu/tgn/', headers={'Accept': 'text/turtle'})\n",
    "    with open(tgnFile, 'wb') as f:\n",
    "        f.write(response.content)\n",
    "countriesGraph.parse(open(tgnFile), format='turtle')\n",
    "\n",
    "for country, tgn_list in list(countries.items()):\n",
    "    if len(tgn_list) > 0:\n",
    "        tgn_uri = tgn_list[0]\n",
    "        tgn_id = tgn_uri[len('http://vocab.getty.edu/tgn/'):]\n",
    "        sourceFile = sourceFolder / (tgn_id + '.ttl')\n",
    "        if not(sourceFile.exists() and sourceFile.is_file()):\n",
    "            response = requests.get(tgn_uri, headers={'Accept': 'text/turtle'})\n",
    "            with open(sourceFile, 'wb') as f:\n",
    "                f.write(response.content)\n",
    "        countriesGraph.parse(open(sourceFile), format='turtle')\n",
    "        tgn = URIRef(tgn_uri)\n",
    "        countriesGraph.add((tgn, RDF.type, FOI.Feature))\n",
    "        countriesGraph.add((tgn, FOI.memberOf, countriesCollection))\n",
    "        for label in countriesGraph.objects(tgn, RDFS.label):\n",
    "            countriesGraph.add((tgn, FOI.displayName, label))\n",
    "\n",
    "destinationFolder = Path('out')\n",
    "destinationFolder.mkdir(exist_ok=True)\n",
    "\n",
    "countries_ttl = destinationFolder / 'countries.ttl'\n",
    "with open(countries_ttl, 'wb') as o:\n",
    "    countriesGraph.serialize(destination=o, format='turtle')"
   ]
  },
  {
   "cell_type": "code",
   "execution_count": null,
   "metadata": {},
   "outputs": [],
   "source": []
  }
 ],
 "metadata": {
  "kernelspec": {
   "display_name": "Python 3",
   "language": "python",
   "name": "python3"
  },
  "language_info": {
   "codemirror_mode": {
    "name": "ipython",
    "version": 3
   },
   "file_extension": ".py",
   "mimetype": "text/x-python",
   "name": "python",
   "nbconvert_exporter": "python",
   "pygments_lexer": "ipython3",
   "version": "3.6.4"
  }
 },
 "nbformat": 4,
 "nbformat_minor": 2
}
