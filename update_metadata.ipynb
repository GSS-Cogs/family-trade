{
 "cells": [
  {
   "cell_type": "markdown",
   "metadata": {},
   "source": [
    "Fill out dataset metadata template"
   ]
  },
  {
   "cell_type": "code",
   "execution_count": 1,
   "metadata": {},
   "outputs": [],
   "source": [
    "import pandas as pd\n",
    "from pathlib import Path\n",
    "\n",
    "destinationFolder = Path('out')\n",
    "destinationFolder.mkdir(exist_ok=True, parents=True)\n",
    "\n",
    "modified_date = pd.to_datetime('now').tz_localize('Europe/London').isoformat()\n",
    "\n",
    "from string import Template\n",
    "with open(Path('metadata') / 'dataset.trig.template', 'r') as metadata_template_file:\n",
    "    metadata_template = Template(metadata_template_file.read())\n",
    "    with open(destinationFolder / 'dataset.trig', 'w') as metadata_file:\n",
    "        metadata_file.write(metadata_template.substitute(modified=modified_date))"
   ]
  }
 ],
 "metadata": {
  "kernelspec": {
   "display_name": "Python 3",
   "language": "python",
   "name": "python3"
  },
  "language_info": {
   "codemirror_mode": {
    "name": "ipython",
    "version": 3
   },
   "file_extension": ".py",
   "mimetype": "text/x-python",
   "name": "python",
   "nbconvert_exporter": "python",
   "pygments_lexer": "ipython3",
   "version": "3.6.5"
  }
 },
 "nbformat": 4,
 "nbformat_minor": 2
}
