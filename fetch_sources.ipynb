{
 "cells": [
  {
   "cell_type": "markdown",
   "metadata": {},
   "source": [
    "Fetch the source Balance of Payments Excel spreadsheet and keep a local copy."
   ]
  },
  {
   "cell_type": "code",
   "execution_count": null,
   "metadata": {},
   "outputs": [],
   "source": [
    "import requests\n",
    "from pathlib import Path\n",
    "\n",
    "sourceFolder = Path('in')\n",
    "sourceFolder.mkdir(exist_ok=True)\n",
    "        \n",
    "pbFilename = 'pinkbook2017chapter3.xls'\n",
    "pbURL = f'https://www.ons.gov.uk/file?uri=/economy/nationalaccounts/balanceofpayments/datasets/3tradeinservicesthepinkbook2016/thepinkbook2017/{pbFilename}'\n",
    "pbFile = sourceFolder / pbFilename\n",
    "\n",
    "if not(pbFile.exists() and pbFile.is_file()):\n",
    "    response = requests.get(pbURL)\n",
    "    with open(pbFile, 'wb') as f:\n",
    "        f.write(response.content)\n"
   ]
  }
 ],
 "metadata": {
  "kernelspec": {
   "display_name": "Python 3",
   "language": "python",
   "name": "python3"
  },
  "language_info": {
   "codemirror_mode": {
    "name": "ipython",
    "version": 3
   },
   "file_extension": ".py",
   "mimetype": "text/x-python",
   "name": "python",
   "nbconvert_exporter": "python",
   "pygments_lexer": "ipython3",
   "version": "3.6.5"
  }
 },
 "nbformat": 4,
 "nbformat_minor": 2
}
